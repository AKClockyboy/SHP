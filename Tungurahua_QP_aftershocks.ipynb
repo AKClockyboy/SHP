{
 "cells": [
  {
   "cell_type": "markdown",
   "metadata": {},
   "source": [
    "# PyMC3 QP analysis of November 2015 'aftershocks'"
   ]
  },
  {
   "cell_type": "markdown",
   "metadata": {},
   "source": [
    "## Importing data\n",
    "Manual pick times are stored for days 329 - 335 inclusive (25-30/11/2015). "
   ]
  },
  {
   "cell_type": "code",
   "execution_count": 1,
   "metadata": {},
   "outputs": [],
   "source": [
    "import matplotlib.pyplot as plt\n",
    "from matplotlib.dates import num2date\n",
    "from matplotlib.dates import date2num\n",
    "from matplotlib.dates import DateFormatter\n",
    "import datetime\n",
    "import numpy as np\n",
    "import pymc3 as pm\n",
    "\n",
    "import theano.tensor as T\n",
    "\n",
    "%matplotlib inline"
   ]
  },
  {
   "cell_type": "markdown",
   "metadata": {},
   "source": [
    "Import the pick times"
   ]
  },
  {
   "cell_type": "markdown",
   "metadata": {},
   "source": [
    "## Fitting the true data\n",
    "In this scenario, we flipped the data on the x-axis to model an exponential and an inverse Omori law. In reality, we have a true Omori law showing a decaying rate of earthquakes after a given peak. \n",
    "\n",
    "This time we know $t_{f}$ as that is our point 0. We still need to define the parameters $k$, $p$ and $c$ as per Omori's law:\n",
    "\n",
    "$n(t) = k(c+t_{f})^{-p}$\n",
    "\n",
    "At this stage we're still fitting the logliklihood using a simple Poisson process. To step this up to a gamma point process we need to change that last step. \n",
    "\n",
    "Let's first of all prepare our data, this time in chronological order. "
   ]
  },
  {
   "cell_type": "code",
   "execution_count": 2,
   "metadata": {},
   "outputs": [],
   "source": [
    "start = date2num(datetime.datetime(1997, 2, 12, 10, 20, 0))\n",
    "end = date2num(datetime.datetime(1997, 2, 12, 12, 30, 0))"
   ]
  },
  {
   "cell_type": "code",
   "execution_count": 3,
   "metadata": {},
   "outputs": [
    {
     "name": "stdout",
     "output_type": "stream",
     "text": [
      "94 picks extracted from file\n"
     ]
    }
   ],
   "source": [
    "fname='./event_picks.txt'\n",
    "picks_num = []\n",
    "with open(fname) as f:\n",
    "    for line in f:\n",
    "        if line.rstrip():\n",
    "            values = line.split('\\n')\n",
    "            pick = float(values[0])\n",
    "            picks_num.append(pick)\n",
    "            \n",
    "print(len(picks_num), 'picks extracted from file')"
   ]
  },
  {
   "cell_type": "code",
   "execution_count": 4,
   "metadata": {},
   "outputs": [
    {
     "name": "stdout",
     "output_type": "stream",
     "text": [
      "729067.43234639\n",
      "729067.4305555555\n",
      "0.041666666666666664\n"
     ]
    }
   ],
   "source": [
    "picks = np.array(picks_num)-start\n",
    "print(picks_num[0])\n",
    "print(start)\n",
    "\n",
    "dt = 1./24.\n",
    "freqs, bv = np.histogram(picks, bins=np.arange(0, 6.01, dt))\n",
    "#for i in range(len(bv)):\n",
    "#    num2date(bv[i]).replace(tzinfo=None)\n",
    "#print(bv)\n",
    "#print(freqs)\n",
    "ind = np.argmax(freqs)\n",
    "t_f = bv[ind]\n",
    "cat = picks[picks>t_f]-t_f\n",
    "print(t_f)"
   ]
  },
  {
   "cell_type": "markdown",
   "metadata": {},
   "source": [
    "### Defining the functions\n",
    "This time we need to use the exponential and modified Omori's law. The data has been imported such that $t_{0} = 0$ and $t$ is time since $t_{0}$ in days. "
   ]
  },
  {
   "cell_type": "code",
   "execution_count": 5,
   "metadata": {},
   "outputs": [],
   "source": [
    "# Rate function for modified Omori's law:\n",
    "def mol_rate(t, params):\n",
    "    k=params[0]\n",
    "    c=params[1]\n",
    "    p=params[2]\n",
    "\n",
    "    rate = []\n",
    "    rate = k*((t+c)**-p)\n",
    "    return(rate)\n",
    "\n",
    "# Total function for modified Omori's law:\n",
    "def mol_total(t, t0, params):\n",
    "    k=params[0]\n",
    "    c=params[1]\n",
    "    p=params[2]\n",
    "    \n",
    "    total = []\n",
    "    if p == 1.0:\n",
    "        total = k*(np.log(c+t) - np.log(c+t0))\n",
    "    else:\n",
    "        total = k/(1.-p)*(((c+t)**(1.-p))-((c+t0)**(1.-p)))\n",
    "    return(total)\n",
    "\n",
    "\n",
    "# Rate function for exponential model:\n",
    "def exp_rate(t, params):\n",
    "    k=params[0]\n",
    "    lam=params[1]\n",
    "    \n",
    "    rate = []\n",
    "    rate = k*np.exp(-lam*t)\n",
    "    return(rate)\n",
    "\n",
    "# Total function for exponential model:\n",
    "def exp_total(t, t0, params):\n",
    "    k=params[0]\n",
    "    lam=params[1]\n",
    "    \n",
    "    total = []\n",
    "    total = (k/-lam)*(np.exp(-lam*t)-np.exp(-lam*t0))\n",
    "    return(total)\n"
   ]
  },
  {
   "cell_type": "markdown",
   "metadata": {},
   "source": [
    "### Initiate the PyMC3 model"
   ]
  },
  {
   "cell_type": "code",
   "execution_count": 6,
   "metadata": {},
   "outputs": [],
   "source": [
    "t_forc = (picks[-1])\n",
    "spikes = cat\n",
    "spikes = spikes[spikes<t_forc]\n",
    "t_js = np.hstack((0,spikes[:-1]))\n"
   ]
  },
  {
   "cell_type": "code",
   "execution_count": 7,
   "metadata": {},
   "outputs": [],
   "source": [
    "mol_model = pm.Model()\n",
    "with mol_model:\n",
    "    #k = pm.Uniform('k', lower=250, upper=350)\n",
    "    #c = pm.Uniform('c', lower=0, upper=8)\n",
    "    #p = pm.Lognormal('p', mu= 1., tau=5.0)\n",
    "    \n",
    "    k = pm.Exponential('k', lam=0.01)\n",
    "    c = pm.Lognormal('c', mu=0.3, tau=2)\n",
    "    p = pm.Lognormal('p', mu= 1., tau=5.0)\n",
    "#    alpha = 1.0\n",
    "#    alpha = pm.Uniform('alpha', 1.0, 10.0)\n",
    "    alpha = pm.Exponential('alpha', lam=0.1)\n",
    "\n",
    "    mol_paras = [k, c, p]\n",
    "    \n",
    "    def logl_mol(spikes):\n",
    "        #Simple Poisson process LL function\n",
    "#        ll = pm.math.sum(pm.math.log(mol_rate(spikes, mol_paras)) - mol_total(spikes, t_js, mol_paras))\n",
    "        \n",
    "#        ll = (pm.math.log(alpha/T.gamma(alpha))\n",
    "#              + pm.math.sum(pm.math.log(mol_rate(spikes, mol_paras))\n",
    "#                            +(alpha-1.)*(pm.math.log(alpha)+pm.math.log(mol_total(spikes, t_js, mol_paras)))\n",
    "#                            +pm.math.log((alpha*mol_total(spikes, t_js, mol_paras))**(alpha-1)+1)\n",
    "#                            -alpha*mol_total(spikes, t_js, mol_paras)))\n",
    "                \n",
    "        pdf = (alpha/T.gamma(alpha) * (mol_rate(spikes, mol_paras))\n",
    "               * (alpha*mol_total(spikes, t_js, mol_paras))**(alpha-1.)\n",
    "               * pm.math.exp(-alpha*mol_total(spikes, t_js, mol_paras)))\n",
    "        \n",
    "        ll = pm.math.sum(pm.math.log(pdf))\n",
    "        \n",
    "        return(ll)\n",
    "    \n",
    "    x = pm.DensityDist('x', logl_mol, observed=(spikes))"
   ]
  },
  {
   "cell_type": "code",
   "execution_count": 8,
   "metadata": {
    "scrolled": true
   },
   "outputs": [
    {
     "name": "stderr",
     "output_type": "stream",
     "text": [
      "logp = 329.46, ||grad|| = 0.39506: 100%|██████████| 35/35 [00:00<00:00, 1745.65it/s]  \n"
     ]
    },
    {
     "name": "stdout",
     "output_type": "stream",
     "text": [
      "MAP estimate for k:  6.606441629186667\n",
      "MAP estimate for c:  0.23509571756153214\n",
      "MAP estimate for p:  3.885333716398655\n",
      "MAP estimate for alpha:  1.487511567236582\n"
     ]
    }
   ],
   "source": [
    "map_estimate_mol = pm.find_MAP(model=mol_model)\n",
    "map_paras_mol = np.array([map_estimate_mol['k'], map_estimate_mol['c'], map_estimate_mol['p'], map_estimate_mol['alpha']])\n",
    "print('MAP estimate for k: ', map_paras_mol[0])\n",
    "print('MAP estimate for c: ', map_paras_mol[1])\n",
    "print('MAP estimate for p: ', map_paras_mol[2])\n",
    "print('MAP estimate for alpha: ', map_paras_mol[3])"
   ]
  },
  {
   "cell_type": "code",
   "execution_count": 9,
   "metadata": {},
   "outputs": [
    {
     "data": {
      "text/plain": [
       "<matplotlib.legend.Legend at 0x7f860cefc898>"
      ]
     },
     "execution_count": 9,
     "metadata": {},
     "output_type": "execute_result"
    },
    {
     "data": {
      "image/png": "[encoded data removed]",
      "text/plain": [
       "<Figure size 864x576 with 2 Axes>"
      ]
     },
     "metadata": {
      "needs_background": "light"
     },
     "output_type": "display_data"
    }
   ],
   "source": [
    "xs = np.arange(0,bv[-1], 0.01)\n",
    "\n",
    "fig = plt.figure(figsize=(12, 8))\n",
    "plt.rcParams.update({'font.size':16})\n",
    "ax1=fig.add_subplot(111)\n",
    "ax1.plot(bv[:-1], freqs, marker='o', ms=2, mec='r', mfc='r', ls='', label='1hr binned rate')\n",
    "ax1.plot(xs+t_f, mol_rate(xs, map_paras_mol)*dt, ls='-', c='b', label='MOL rate')\n",
    "\n",
    "ax1.xaxis.set_ticks_position('bottom')\n",
    "ax1.yaxis.set_ticks_position('left')\n",
    "ax1.set_ylabel('Rate')\n",
    "ax1.set_ylim(0,max(freqs))\n",
    "\n",
    "ax2 = ax1.twinx()\n",
    "ax2.plot(cat+t_f, np.arange(len(cat)), color='g', label='Total events')\n",
    "ax2.plot(xs+t_f, mol_total(xs, 0, map_paras_mol), 'k', label='MOL total')\n",
    "ax2.yaxis.set_ticks_position('right')\n",
    "ax2.set_ylabel('Total events')\n",
    "ax2.set_ylim(0,len(cat))\n",
    "\n",
    "ax1.set_xlabel('Time since t$_{0}$ (days)')\n",
    "ax1.set_xlim(0, bv[-1])\n",
    "ax1.axvline(t_forc, c='k', ls='--', label='$t_{forc}$')\n",
    "ax1.axvline(t_f, c='k', ls=':', label='$t_{0}$')\n",
    "fig.legend(loc=2, bbox_to_anchor = (0.6,0.7))"
   ]
  },
  {
   "cell_type": "code",
   "execution_count": 10,
   "metadata": {},
   "outputs": [
    {
     "name": "stderr",
     "output_type": "stream",
     "text": [
      "Auto-assigning NUTS sampler...\n",
      "Initializing NUTS using jitter+adapt_diag...\n",
      "Sequential sampling (1 chains in 1 job)\n",
      "NUTS: [alpha, p, c, k]\n",
      "Sampling chain 0, 172 divergences: 100%|██████████| 5500/5500 [00:47<00:00, 115.29it/s]\n",
      "There were 172 divergences after tuning. Increase `target_accept` or reparameterize.\n",
      "Only one chain was sampled, this makes it impossible to run some convergence checks\n"
     ]
    }
   ],
   "source": [
    "with mol_model:\n",
    "    trace_mol = pm.sample(5000, chains=1, cores=4)"
   ]
  },
  {
   "cell_type": "code",
   "execution_count": 11,
   "metadata": {},
   "outputs": [
    {
     "data": {
      "text/plain": [
       "<matplotlib.lines.Line2D at 0x7f860526b978>"
      ]
     },
     "execution_count": 11,
     "metadata": {},
     "output_type": "execute_result"
    },
    {
     "data": {
      "image/png": "[encoded data removed]",
      "text/plain": [
       "<Figure size 864x576 with 2 Axes>"
      ]
     },
     "metadata": {
      "needs_background": "light"
     },
     "output_type": "display_data"
    }
   ],
   "source": [
    "n_bs = 500\n",
    "xs = np.arange(0, cat[-1], 0.01)\n",
    "\n",
    "fig = plt.figure(figsize=(12,8))\n",
    "plt.rcParams.update({'font.size':16})\n",
    "ax1=fig.add_subplot(111)\n",
    "ax1.plot(bv[:-1], freqs, marker='o', ms=5, mec='r', mfc='r', ls='', label='1hr binned rate')\n",
    "\n",
    "for i in np.arange(n_bs):\n",
    "    samp=int(i*5000/n_bs)\n",
    "    paras1 = [trace_mol['k'][samp], trace_mol['c'][samp], trace_mol['p'][samp]]\n",
    "    ax1.plot(xs+t_f, mol_rate(xs, paras1)*dt, 'b', alpha=0.01)\n",
    "    \n",
    "ax1.xaxis.set_ticks_position('bottom')\n",
    "ax1.yaxis.set_ticks_position('left')\n",
    "ax1.set_ylabel('Rate')\n",
    "ax1.set_ylim(0,max(freqs))\n",
    "\n",
    "ax2 = ax1.twinx()\n",
    "\n",
    "\n",
    "for i in np.arange(n_bs):\n",
    "    samp=int(i*5000/n_bs)\n",
    "    paras1 = [trace_mol['k'][samp], trace_mol['c'][samp], trace_mol['p'][samp]]\n",
    "    ax2.plot(xs+t_f, mol_total(xs, 0, paras1), 'k', alpha=0.01)\n",
    "ax2.plot(cat+t_f, np.arange(len(cat)), color='g', lw=1.5)\n",
    "ax2.yaxis.set_ticks_position('right')\n",
    "ax2.set_ylabel('Total events')\n",
    "ax2.set_ylim(0,len(cat))\n",
    "\n",
    "ax1.set_xlabel('Time since t$_{0}$ (days)')\n",
    "ax1.set_xlim(0, bv[-1])\n",
    "#ax1.axvline(t_forc, c='k', ls='--', label='$t_{forc}$')\n",
    "ax1.axvline(t_f, c='k', ls=':', label='$t_{0}$')\n",
    "#fig.legend(loc=2, bbox_to_anchor = (0.6,0.6))"
   ]
  },
  {
   "cell_type": "code",
   "execution_count": null,
   "metadata": {},
   "outputs": [],
   "source": [
    "pm.plots.traceplot(trace_mol)"
   ]
  },
  {
   "cell_type": "code",
   "execution_count": null,
   "metadata": {},
   "outputs": [],
   "source": []
  },
  {
   "cell_type": "code",
   "execution_count": null,
   "metadata": {},
   "outputs": [],
   "source": []
  },
  {
   "cell_type": "code",
   "execution_count": null,
   "metadata": {},
   "outputs": [],
   "source": []
  }
 ],
 "metadata": {
  "kernelspec": {
   "display_name": "Python 3",
   "language": "python",
   "name": "python3"
  },
  "language_info": {
   "codemirror_mode": {
    "name": "ipython",
    "version": 3
   },
   "file_extension": ".py",
   "mimetype": "text/x-python",
   "name": "python",
   "nbconvert_exporter": "python",
   "pygments_lexer": "ipython3",
   "version": "3.6.8"
  }
 },
 "nbformat": 4,
 "nbformat_minor": 2
}
